{
 "cells": [
  {
   "cell_type": "markdown",
   "id": "6aa6001a",
   "metadata": {},
   "source": [
    "# Classificatiom Model 3: Random Forest\n",
    "\n",
    "***\n",
    "Let's develop our random forest model for the laundromat use case. \n"
   ]
  },
  {
   "cell_type": "code",
   "execution_count": null,
   "id": "5f3e7d88",
   "metadata": {},
   "outputs": [],
   "source": [
    "from google.colab import drive\n",
    "\n",
    "drive.mount(??, force_remount=True)"
   ]
  },
  {
   "cell_type": "code",
   "execution_count": null,
   "id": "f26c592f",
   "metadata": {},
   "outputs": [],
   "source": [
    "ROOT_DIR = ??"
   ]
  },
  {
   "cell_type": "code",
   "execution_count": 11,
   "id": "258c8425",
   "metadata": {},
   "outputs": [
    {
     "name": "stdout",
     "output_type": "stream",
     "text": [
      "     index_col       avC         avP       sdC         sdP          avR  maxC  \\\n",
      "432          3  3.595600  792.930000  3.332669  786.913383   399.232039  7.23   \n",
      "22           9  1.616815  329.370370  2.485054  583.668067   637.157143  1.76   \n",
      "620         14  1.305465  254.702326  2.232888  529.072646   604.123431  0.66   \n",
      "963          0  0.284667   34.533333  0.227744   33.000244  1429.358887  0.77   \n",
      "188          9  1.484593  298.003704  2.357156  558.706609   623.840883  1.84   \n",
      "..         ...       ...         ...       ...         ...          ...   ...   \n",
      "360         21  0.906095  167.071429  1.721403  405.103331   871.333092  0.09   \n",
      "466         15  1.292000  256.215556  2.277856  534.821437   658.162380  1.30   \n",
      "299          0  2.612000  574.333333  3.216506  759.213038   753.064179  7.25   \n",
      "493         20  1.080317  202.135000  1.919027  450.266332   678.029294  2.49   \n",
      "527          9  1.641481  339.711111  2.584596  619.005346   585.429776  0.59   \n",
      "\n",
      "     maxP     stdCR       stdCP         AvRR  \n",
      "432  1642  3.382349  805.313577   362.408577  \n",
      "22    271  0.587681   92.810374   449.344412  \n",
      "620    69  0.141624   18.216104   682.374211  \n",
      "963   102  0.227744   33.000244  1429.358887  \n",
      "188   286  0.601370   96.551553   475.380790  \n",
      "..    ...       ...         ...          ...  \n",
      "360     1  0.000000    0.000000  2628.307407  \n",
      "466   195  0.325882   50.023153   638.702682  \n",
      "299  1666  3.216506  759.213038   753.064179  \n",
      "493   395  0.630406  102.162728   226.295845  \n",
      "527    75  0.109605   15.296908   559.013457  \n",
      "\n",
      "[773 rows x 11 columns]\n",
      "432     CottonWash\n",
      "22      DailyRinse\n",
      "620    CottonRinse\n",
      "963    BeddingWash\n",
      "188     DailyRinse\n",
      "          ...     \n",
      "360     CottonSpin\n",
      "466    CottonRinse\n",
      "299     CottonWash\n",
      "493     CottonSpin\n",
      "527     CottonWash\n",
      "Name: mode, Length: 773, dtype: object\n"
     ]
    }
   ],
   "source": [
    "# Import necessary Python libraries here ...\n",
    "# ...\n",
    "# ...\n",
    "# ...\n",
    "\n",
    "# Loading the dataset from the /data folder here \n",
    "data_path  = ?\n",
    "\n",
    "# Read your csv file here ...\n",
    "currentdf  = ???\n",
    "\n",
    "# Allocate your training data and label \n",
    "x = ?\n",
    "y = ?\n",
    "\n",
    "# Splitting dataset into 75% for training and 25% for testing here ...\n",
    "# ...\n",
    "# ...\n",
    "\n",
    "# Display the features and label from the training set \n",
    "print(?)\n",
    "print(?)\n",
    "\n",
    "# Insert code to standardize your dataset here ...\n",
    "# ...\n",
    "# ...\n"
   ]
  },
  {
   "cell_type": "markdown",
   "id": "f2dc0885",
   "metadata": {},
   "source": [
    "***\n",
    "## Training vs Testing Error\n",
    "\n",
    "As you have learnt 3 very useful classifiers, it is time to evaluate their accuracy on the testing set. In the training set, the 3 models appear to give us about the same arracy of around 80% - 90% range. However, we need a reference point to determine whether this 80% is good or bad.\n",
    "\n",
    "We can compare the random forest model with the other two classifiers using the testing data:\n"
   ]
  },
  {
   "cell_type": "code",
   "execution_count": 14,
   "id": "b94497d7",
   "metadata": {},
   "outputs": [
    {
     "data": {
      "text/html": [
       "<div>\n",
       "<style scoped>\n",
       "    .dataframe tbody tr th:only-of-type {\n",
       "        vertical-align: middle;\n",
       "    }\n",
       "\n",
       "    .dataframe tbody tr th {\n",
       "        vertical-align: top;\n",
       "    }\n",
       "\n",
       "    .dataframe thead th {\n",
       "        text-align: right;\n",
       "    }\n",
       "</style>\n",
       "<table border=\"1\" class=\"dataframe\">\n",
       "  <thead>\n",
       "    <tr style=\"text-align: right;\">\n",
       "      <th></th>\n",
       "      <th>Train</th>\n",
       "      <th>Test</th>\n",
       "    </tr>\n",
       "  </thead>\n",
       "  <tbody>\n",
       "    <tr>\n",
       "      <th>KNN</th>\n",
       "      <td>81.500647</td>\n",
       "      <td>67.829457</td>\n",
       "    </tr>\n",
       "    <tr>\n",
       "      <th>DecisionTree</th>\n",
       "      <td>89.133247</td>\n",
       "      <td>83.333333</td>\n",
       "    </tr>\n",
       "    <tr>\n",
       "      <th>RandomForest</th>\n",
       "      <td>94.954722</td>\n",
       "      <td>86.046512</td>\n",
       "    </tr>\n",
       "  </tbody>\n",
       "</table>\n",
       "</div>"
      ],
      "text/plain": [
       "                  Train       Test\n",
       "KNN           81.500647  67.829457\n",
       "DecisionTree  89.133247  83.333333\n",
       "RandomForest  94.954722  86.046512"
      ]
     },
     "execution_count": 14,
     "metadata": {},
     "output_type": "execute_result"
    }
   ],
   "source": [
    "# Retrain the KNN model with k=7\n",
    "from sklearn.?? import ??Classifier\n",
    "knn = KNeighborsClassifier(n_neighbors=??)\n",
    "knn.fit(X_train, y_train) \n",
    "\n",
    "# Retrain the decision treen model with max_depth=6\n",
    "from sklearn.?? import ??Classifier\n",
    "class_tree = DecisionTreeClassifier(max_depth=??,\n",
    "                                   min_samples_split=??) \n",
    "class_tree.fit(X_train, y_train)\n",
    "\n",
    "# Retrain the random forest model with max_depth=6\n",
    "from sklearn.?? import ??Classifier\n",
    "rf = RandomForestClassifier(n_estimators=??,\n",
    "                            max_depth=??,\n",
    "                            random_state=??)\n",
    "rf.fit(X_train, y_train)\n",
    "\n",
    "# Prepare the data frame for evaluation metrics\n",
    "accuracies = pd.DataFrame(columns=['Train', 'Test'], index=[\"KNN\", 'DecisionTree', 'RandomForest'])\n",
    "model_dict = {'KNN': knn, 'DecisionTree': class_tree, 'RandomForest': rf}\n",
    "\n",
    "# Evaluate the accuraccies of the 3 predictive models\n",
    "from sklearn.metrics import accuracy_score \n",
    "for name, model in model_dict.items():\n",
    "    accuracies.loc[name, 'Train'] = accuracy_score(y_true=y_train, y_pred=model.predict(X_train))                                                                                                                  \n",
    "    accuracies.loc[name, 'Test'] = accuracy_score(y_true=y_test, y_pred=model.predict(X_test))   \n",
    "\n",
    "# Show results in percentage\n",
    "100*accuracies  \n",
    "  \n"
   ]
  },
  {
   "cell_type": "markdown",
   "id": "b8a80c95",
   "metadata": {},
   "source": [
    "Let use the bar graph to virtally compare the 3 predictive models to evaluate the accuracy of both training and testing sets."
   ]
  },
  {
   "cell_type": "code",
   "execution_count": 15,
   "id": "4a8916c4",
   "metadata": {},
   "outputs": [
    {
     "data": {
      "image/png": "[encoded data removed]",
      "text/plain": [
       "<Figure size 432x288 with 1 Axes>"
      ]
     },
     "metadata": {
      "needs_background": "light"
     },
     "output_type": "display_data"
    }
   ],
   "source": [
    "fig, ax = plt.subplots()\n",
    "accuracies.sort_values(by='Test', ascending=False).plot(kind='barh', ax=ax, zorder=3)\n",
    "ax.grid(zorder=0); \n"
   ]
  },
  {
   "cell_type": "markdown",
   "id": "261213a1",
   "metadata": {},
   "source": [
    "From the accuracy results, discuss with your team on the following questions:\n",
    "\n",
    "1. Which predictive model would your team choose to adopt? And why? \n",
    "2. How will you improve the results of the accuracy further? \n",
    "3. Is Accuracy result alone is sufficient for you to justify that it is indeed a good predictive model? Why or why not? "
   ]
  },
  {
   "cell_type": "markdown",
   "id": "4e397e2f",
   "metadata": {},
   "source": [
    "Your response here ..."
   ]
  },
  {
   "cell_type": "markdown",
   "id": "83049004",
   "metadata": {},
   "source": [
    "***\n",
    "You may save your 3 models for future use. "
   ]
  },
  {
   "cell_type": "code",
   "execution_count": null,
   "id": "ab4bcf81",
   "metadata": {},
   "outputs": [],
   "source": [
    "import pickle as pk\n",
    "\n",
    "...\n",
    "...\n",
    "...\n",
    "\n",
    "print(\"Models Saved\")"
   ]
  },
  {
   "cell_type": "markdown",
   "id": "f5b13454",
   "metadata": {},
   "source": [
    "***"
   ]
  }
 ],
 "metadata": {
  "kernelspec": {
   "display_name": "Python 3 (ipykernel)",
   "language": "python",
   "name": "python3"
  },
  "language_info": {
   "codemirror_mode": {
    "name": "ipython",
    "version": 3
   },
   "file_extension": ".py",
   "mimetype": "text/x-python",
   "name": "python",
   "nbconvert_exporter": "python",
   "pygments_lexer": "ipython3",
   "version": "3.11.4"
  }
 },
 "nbformat": 4,
 "nbformat_minor": 5
}
