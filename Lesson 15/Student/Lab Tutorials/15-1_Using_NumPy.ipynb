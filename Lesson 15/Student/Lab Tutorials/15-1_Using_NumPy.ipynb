{
 "cells": [
  {
   "cell_type": "markdown",
   "metadata": {},
"source": [
    "<img src=\"https://www.rp.edu.sg/images/default-source/default-album/rp-logo.png\" width=\"200\" alt=\"Republic Polytechnic\"/>\n",
    "\n",
    "[![Open in Colab](https://colab.research.google.com/assets/colab-badge.svg)](https://colab.research.google.com/github/atlanca8/C379-2025-Sem1/blob/main/L13/L13.ipynb)",
 "\n",  
    "# C379 Emerging Technologies"
   ]
  },
  {
   "cell_type": "markdown",
   "metadata": {},
   "source": [
    "# Lesson 8 - Scientific Computing Library for Python "
   ]
  },
  {
   "cell_type": "code",
   "execution_count": null,
   "metadata": {},
   "outputs": [],
   "source": [
    "from google.colab import drive\n",
    "\n",
    "drive.mount('/content/drive', force_remount=True)"
   ]
  },
  {
   "cell_type": "code",
   "execution_count": null,
   "metadata": {},
   "outputs": [],
   "source": [
    "ROOT_DIR = '/content/drive/MyDrive/C379'"
   ]
  },
  {
   "cell_type": "markdown",
   "metadata": {},
   "source": [
    "### Using NumPy \n",
    "NumPy is the foundational library for the scientific computing library for the Python ecosystem. The main libraries in the ecosystem - pandas, matplotlib, SciPy and scikit-learn are based on NumPy. Please refer to http://numpy.org for more information. \n",
    "\n",
    "As it is a foundational library, it is important to know at least the basics of NumPy. "
   ]
  },
  {
   "cell_type": "markdown",
   "metadata": {},
   "source": [
    "### NumPy Tutorial\n",
    "Here are a couple of motivating examples about why vectorization is needed when doing any kind of scientific computing. Let's perform a couple of simple calculations with Python. \n",
    "\n",
    "First, let's say you have some distances and times and you would like to calculate the speeds: "
   ]
  },
  {
   "cell_type": "code",
   "execution_count": 1,
   "metadata": {},
   "outputs": [
    {
     "data": {
      "text/plain": [
       "[33.333333333333336,\n",
       " 31.914893617021278,\n",
       " 30.909090909090907,\n",
       " 21.666666666666668]"
      ]
     },
     "execution_count": 1,
     "metadata": {},
     "output_type": "execute_result"
    }
   ],
   "source": [
    "distances = [10, 15, 17, 26] \n",
    "times = [0.3, 0.47, 0.55, 1.20]\n",
    "\n",
    "# Calculate speeds with Python\n",
    "speeds = []\n",
    "for i in range (len(distances)):\n",
    "    speeds.append(distances[i]/times[i])\n",
    "    \n",
    "speeds"
   ]
  },
  {
   "cell_type": "markdown",
   "metadata": {},
   "source": [
    "An alternative to accomplish the same in Python methodlogy would be the following: "
   ]
  },
  {
   "cell_type": "code",
   "execution_count": 2,
   "metadata": {},
   "outputs": [
    {
     "data": {
      "text/plain": [
       "[33.333333333333336,\n",
       " 31.914893617021278,\n",
       " 30.909090909090907,\n",
       " 21.666666666666668]"
      ]
     },
     "execution_count": 2,
     "metadata": {},
     "output_type": "execute_result"
    }
   ],
   "source": [
    "# An alternative\n",
    "speeds = [d/t for d,t in zip(distances, times)]\n",
    "speeds"
   ]
  },
  {
   "cell_type": "markdown",
   "metadata": {},
   "source": [
    "For the second motivating example, let's say you have a list of product qualities and their respective prices, and you would like to calculate the total of the purchase. The code in Python would look something like this: "
   ]
  },
  {
   "cell_type": "code",
   "execution_count": 3,
   "metadata": {},
   "outputs": [
    {
     "data": {
      "text/plain": [
       "157.1"
      ]
     },
     "execution_count": 3,
     "metadata": {},
     "output_type": "execute_result"
    }
   ],
   "source": [
    "product_quantities = [13, 5, 6, 10, 11]\n",
    "prices = [1.2, 6.5, 1.0, 4.8, 5.0]\n",
    "total = sum([q*p for q,p in zip(product_quantities, prices)])\n",
    "total"
   ]
  },
  {
   "cell_type": "markdown",
   "metadata": {},
   "source": [
    "The point of these two examples is that, for this type of calculation, you need to perform operations element by element and in Python (as well as most programming languages) you do it by using for loops or list comprehensions (which are just convenient ways of writing for loops). \n",
    "\n",
    "Vectorization is a style of computer programming where operations are applied to arrays of individual elements. In other words, a vectorized operation is the application of the operation, element by element, without explicitly doing it with for loops. \n",
    "\n",
    "Now, let's take a look at the NumPy approach to doing the former operations: \n",
    "\n",
    "First, let's import the NumPy library and do the speeds calculation. As you can see, by adding the mathematical definition of speed, this is very easy and natural."
   ]
  },
  {
   "cell_type": "code",
   "execution_count": 4,
   "metadata": {},
   "outputs": [
    {
     "data": {
      "text/plain": [
       "array([33.33333333, 31.91489362, 30.90909091, 21.66666667])"
      ]
     },
     "execution_count": 4,
     "metadata": {},
     "output_type": "execute_result"
    }
   ],
   "source": [
    "import numpy as np \n",
    "\n",
    "# Calculate the speeds\n",
    "distances = np.array([10, 15, 17, 26]) \n",
    "times = np.array([0.3, 0.47, 0.55, 1.20])\n",
    "speeds = distances/times\n",
    "speeds"
   ]
  },
  {
   "cell_type": "markdown",
   "metadata": {},
   "source": [
    "Again for the purchase calculation, the code for running this calculation is much easier and more natural: "
   ]
  },
  {
   "cell_type": "code",
   "execution_count": 5,
   "metadata": {},
   "outputs": [
    {
     "data": {
      "text/plain": [
       "157.1"
      ]
     },
     "execution_count": 5,
     "metadata": {},
     "output_type": "execute_result"
    }
   ],
   "source": [
    "# Calaculate the total of a purchase\n",
    "product_quantities = np.array([13, 5, 6, 10, 11])\n",
    "prices = np.array([1.2, 6.5, 1.0, 4.8, 5.0])\n",
    "total = (product_quantities*prices).sum()\n",
    "total"
   ]
  },
  {
   "cell_type": "markdown",
   "metadata": {},
   "source": [
    "After running this calculation, you will get the same total: 157.1\n",
    "\n",
    "Now, let learn some of the basics of array creation, main attributes, and operations. This is of course by no means a complete introduction, but it will be enough for you to have a basic understanding of how NumPy arrays work. \n",
    "\n",
    "As you saw earlier, we can create arrays from lists like: "
   ]
  },
  {
   "cell_type": "code",
   "execution_count": 6,
   "metadata": {},
   "outputs": [],
   "source": [
    "# Array from lists\n",
    "product_quantities = [13, 5, 6, 10, 11]\n",
    "prices = [1.2, 6.5, 1.0, 4.8, 5.0]\n",
    "product_quantities = np.array(product_quantities)\n",
    "prices = np.array(prices)"
   ]
  },
  {
   "cell_type": "markdown",
   "metadata": {},
   "source": [
    "If you pass a list of lists to np.array(), it will create a two-dimensional array. If passed a list of lists (three nested lists), it will create a three-dimentional array, and so on and so forth:"
   ]
  },
  {
   "cell_type": "code",
   "execution_count": 7,
   "metadata": {},
   "outputs": [
    {
     "data": {
      "text/plain": [
       "array([[1, 2],\n",
       "       [3, 4]])"
      ]
     },
     "execution_count": 7,
     "metadata": {},
     "output_type": "execute_result"
    }
   ],
   "source": [
    "A = np.array([[1, 2], [3, 4]])\n",
    "A"
   ]
  },
  {
   "cell_type": "markdown",
   "metadata": {},
   "source": [
    "Take a look at some of the array's main attributes. Let's create some arrays containing randomly generated numbers: "
   ]
  },
  {
   "cell_type": "code",
   "execution_count": 8,
   "metadata": {},
   "outputs": [
    {
     "name": "stdout",
     "output_type": "stream",
     "text": [
      "[5 0 3 3 7 3 5 2 4 7 6 8] \n",
      "\n",
      "[[8 1 6 7]\n",
      " [7 8 1 5]\n",
      " [8 4 3 0]] \n",
      "\n",
      "[[[3 5 0 2 3]\n",
      "  [8 1 3 3 3]\n",
      "  [7 0 1 0 4]\n",
      "  [7 3 2 7 2]]\n",
      "\n",
      " [[0 0 4 5 5]\n",
      "  [6 8 4 1 4]\n",
      "  [8 1 1 7 3]\n",
      "  [6 7 2 0 3]]\n",
      "\n",
      " [[5 4 4 6 4]\n",
      "  [4 3 4 4 8]\n",
      "  [4 3 7 5 5]\n",
      "  [0 1 5 3 0]]] \n",
      "\n"
     ]
    }
   ],
   "source": [
    "# Set a seed for reproducibility \n",
    "np.random.seed(0) \n",
    "\n",
    "# 1D array\n",
    "x1 = np.random.randint(low=0, high=9, size=12)\n",
    "\n",
    "# 2D array\n",
    "x2 = np.random.randint(low=0, high=9, size=(3, 4))\n",
    "\n",
    "# 3D array\n",
    "x3 = np.random.randint(low=0, high=9, size=(3, 4, 5))\n",
    "\n",
    "print (x1, '\\n')\n",
    "print (x2, '\\n')\n",
    "print (x3, '\\n')"
   ]
  },
  {
   "cell_type": "markdown",
   "metadata": {},
   "source": [
    "Some important array attributes are as follows: \n",
    "\n",
    "- ndarray.ndim: The number of dimensions (axes) of the array.\n",
    "- ndarray.shape: The dimensions of the array. This tuple of integers indicates the size of the array in each dimension.\n",
    "- ndarray.size: The total number of elements of the array. This is equal to the product of the elements of shape.\n",
    "- ndarray.dtype: An object describing the type of the elements in the array. One can create or specify dtype's using standard Python types. Moreover, NumPy provides types of its own. numpy.int32, numpy.int16 and numpy.float64 are some examples: "
   ]
  },
  {
   "cell_type": "code",
   "execution_count": 9,
   "metadata": {},
   "outputs": [
    {
     "name": "stdout",
     "output_type": "stream",
     "text": [
      "x3 ndim:  3\n",
      "x3 shape:  (3, 4, 5)\n",
      "x3 size:  60\n",
      "x3 dtype:  int32\n"
     ]
    }
   ],
   "source": [
    "print (\"x3 ndim: \", x3.ndim)\n",
    "print (\"x3 shape: \", x3.shape)\n",
    "print (\"x3 size: \", x3.size)\n",
    "print (\"x3 dtype: \", x3.dtype)"
   ]
  },
  {
   "cell_type": "markdown",
   "metadata": {},
   "source": [
    "One-dimensional arrays can be indexed, sliced and iterated over, just like lists or other Python sequences: "
   ]
  },
  {
   "cell_type": "code",
   "execution_count": 10,
   "metadata": {
    "scrolled": true
   },
   "outputs": [
    {
     "name": "stdout",
     "output_type": "stream",
     "text": [
      "[5 0 3 3 7 3 5 2 4 7 6 8]\n",
      "3\n",
      "[3 3 7]\n",
      "8\n"
     ]
    }
   ],
   "source": [
    "print (x1)\n",
    "print (x1[5])   # Element at index 5\n",
    "print (x1[2:5]) # Slice from elements in indexes 2, 3 & 4\n",
    "print (x1[-1])  # Last element of the array"
   ]
  },
  {
   "cell_type": "markdown",
   "metadata": {},
   "source": [
    "Multi-dimensional arrays have one index per axis. These indices are given in a tuple separated by commas: "
   ]
  },
  {
   "cell_type": "code",
   "execution_count": 11,
   "metadata": {},
   "outputs": [
    {
     "data": {
      "text/plain": [
       "array([[ 1,  2,  3,  4],\n",
       "       [ 5,  6,  7,  8],\n",
       "       [ 9, 10, 11, 12],\n",
       "       [13, 14, 15, 16],\n",
       "       [17, 18, 19, 20]])"
      ]
     },
     "execution_count": 11,
     "metadata": {},
     "output_type": "execute_result"
    }
   ],
   "source": [
    "# Integers from 1 to 20 \n",
    "one_to_twenty = np.arange(1, 21)\n",
    "\n",
    "# Tranform to 5-row by 4-column matrix \n",
    "my_matrix = one_to_twenty.reshape(5, 4) \n",
    "\n",
    "my_matrix"
   ]
  },
  {
   "cell_type": "code",
   "execution_count": 12,
   "metadata": {},
   "outputs": [
    {
     "data": {
      "text/plain": [
       "12"
      ]
     },
     "execution_count": 12,
     "metadata": {},
     "output_type": "execute_result"
    }
   ],
   "source": [
    "# Display element in row 3, column 4 (remember Python is zero indexed) \n",
    "my_matrix[2, 3]"
   ]
  },
  {
   "cell_type": "code",
   "execution_count": 13,
   "metadata": {},
   "outputs": [
    {
     "data": {
      "text/plain": [
       "array([ 2,  6, 10, 14, 18])"
      ]
     },
     "execution_count": 13,
     "metadata": {},
     "output_type": "execute_result"
    }
   ],
   "source": [
    "# Display row in the 2nd column of my_matrix \n",
    "my_matrix[:, 1]"
   ]
  },
  {
   "cell_type": "code",
   "execution_count": 14,
   "metadata": {},
   "outputs": [
    {
     "data": {
      "text/plain": [
       "array([4, 8])"
      ]
     },
     "execution_count": 14,
     "metadata": {},
     "output_type": "execute_result"
    }
   ],
   "source": [
    "# Display 1st & 2nd row of the last column\n",
    "my_matrix[0:2, -1]"
   ]
  },
  {
   "cell_type": "code",
   "execution_count": 15,
   "metadata": {},
   "outputs": [
    {
     "data": {
      "text/plain": [
       "array([[-1,  2,  3,  4],\n",
       "       [ 5,  6,  7,  8],\n",
       "       [ 9, 10, 11, 12],\n",
       "       [13, 14, 15, 16],\n",
       "       [17, 18, 19, 20]])"
      ]
     },
     "execution_count": 15,
     "metadata": {},
     "output_type": "execute_result"
    }
   ],
   "source": [
    "# Set the 1st element to -1\n",
    "my_matrix[0, 0] = -1\n",
    "my_matrix"
   ]
  },
  {
   "cell_type": "markdown",
   "metadata": {},
   "source": [
    "Finally, let's perform some mathematical operations on the former matrix, just to have some examples of how vectorization works:"
   ]
  },
  {
   "cell_type": "code",
   "execution_count": 16,
   "metadata": {},
   "outputs": [
    {
     "data": {
      "text/plain": [
       "array([[ 6,  7,  8,  9],\n",
       "       [10, 11, 12, 13],\n",
       "       [14, 15, 16, 17],\n",
       "       [18, 19, 20, 21],\n",
       "       [22, 23, 24, 25]])"
      ]
     },
     "execution_count": 16,
     "metadata": {},
     "output_type": "execute_result"
    }
   ],
   "source": [
    " # Integers from 1 to 20 \n",
    "one_to_twenty = np.arange(1, 21)\n",
    "\n",
    "# Tranform to 5-row by 4-column matrix \n",
    "my_matrix = one_to_twenty.reshape(5, 4) \n",
    "\n",
    "# The following operations are done to every element of the matrix\n",
    "\n",
    "# Addition\n",
    "my_matrix + 5"
   ]
  },
  {
   "cell_type": "code",
   "execution_count": 17,
   "metadata": {},
   "outputs": [],
   "source": [
    "# Write your Python Code to display the result of the 2D matrix substract by 15\n",
    "# ...\n",
    "\n",
    "\n"
   ]
  },
  {
   "cell_type": "code",
   "execution_count": 6,
   "metadata": {},
   "outputs": [
    {
     "data": {
      "text/plain": [
       "array([[  8,  16,  24,  32],\n",
       "       [ 40,  48,  56,  64],\n",
       "       [ 72,  80,  88,  96],\n",
       "       [104, 112, 120, 128],\n",
       "       [136, 144, 152, 160]])"
      ]
     },
     "execution_count": 6,
     "metadata": {},
     "output_type": "execute_result"
    }
   ],
   "source": [
    "# Write your Python Code to display the result of the 2D matrix multiply by 8\n",
    "# ...\n",
    "\n",
    "\n"
   ]
  },
  {
   "cell_type": "code",
   "execution_count": 18,
   "metadata": {},
   "outputs": [
    {
     "data": {
      "text/plain": [
       "array([[ 0.5,  1. ,  1.5,  2. ],\n",
       "       [ 2.5,  3. ,  3.5,  4. ],\n",
       "       [ 4.5,  5. ,  5.5,  6. ],\n",
       "       [ 6.5,  7. ,  7.5,  8. ],\n",
       "       [ 8.5,  9. ,  9.5, 10. ]])"
      ]
     },
     "execution_count": 18,
     "metadata": {},
     "output_type": "execute_result"
    }
   ],
   "source": [
    "# Division by 2\n",
    "my_matrix / 2"
   ]
  },
  {
   "cell_type": "code",
   "execution_count": 19,
   "metadata": {},
   "outputs": [
    {
     "data": {
      "text/plain": [
       "array([[  1,   4,   9,  16],\n",
       "       [ 25,  36,  49,  64],\n",
       "       [ 81, 100, 121, 144],\n",
       "       [169, 196, 225, 256],\n",
       "       [289, 324, 361, 400]], dtype=int32)"
      ]
     },
     "execution_count": 19,
     "metadata": {},
     "output_type": "execute_result"
    }
   ],
   "source": [
    "# Exponentiation (e.g. X^2)\n",
    "my_matrix ** 2"
   ]
  },
  {
   "cell_type": "code",
   "execution_count": 20,
   "metadata": {},
   "outputs": [
    {
     "data": {
      "text/plain": [
       "array([[      2,       4,       8,      16],\n",
       "       [     32,      64,     128,     256],\n",
       "       [    512,    1024,    2048,    4096],\n",
       "       [   8192,   16384,   32768,   65536],\n",
       "       [ 131072,  262144,  524288, 1048576]], dtype=int32)"
      ]
     },
     "execution_count": 20,
     "metadata": {},
     "output_type": "execute_result"
    }
   ],
   "source": [
    "# Powers of 2 (e.g. 2^X)\n",
    "2 ** my_matrix"
   ]
  },
  {
   "cell_type": "code",
   "execution_count": 21,
   "metadata": {
    "scrolled": true
   },
   "outputs": [
    {
     "data": {
      "text/plain": [
       "array([[ 0.84147098,  0.90929743,  0.14112001, -0.7568025 ],\n",
       "       [-0.95892427, -0.2794155 ,  0.6569866 ,  0.98935825],\n",
       "       [ 0.41211849, -0.54402111, -0.99999021, -0.53657292],\n",
       "       [ 0.42016704,  0.99060736,  0.65028784, -0.28790332],\n",
       "       [-0.96139749, -0.75098725,  0.14987721,  0.91294525]])"
      ]
     },
     "execution_count": 21,
     "metadata": {},
     "output_type": "execute_result"
    }
   ],
   "source": [
    "# Trigonometry functions like sine\n",
    "np.sin(my_matrix)"
   ]
  },
  {
   "cell_type": "code",
   "execution_count": 7,
   "metadata": {},
   "outputs": [
    {
     "data": {
      "text/plain": [
       "array([[0.76159416, 0.96402758, 0.99505475, 0.9993293 ],\n",
       "       [0.9999092 , 0.99998771, 0.99999834, 0.99999977],\n",
       "       [0.99999997, 1.        , 1.        , 1.        ],\n",
       "       [1.        , 1.        , 1.        , 1.        ],\n",
       "       [1.        , 1.        , 1.        , 1.        ]])"
      ]
     },
     "execution_count": 7,
     "metadata": {},
     "output_type": "execute_result"
    }
   ],
   "source": [
    "# Write your Python Code to display the result of the 2D matrix using hyperbolic tangent function\n",
    "# ...\n",
    "\n",
    "\n"
   ]
  },
  {
   "cell_type": "markdown",
   "metadata": {},
   "source": [
    "Finally, let's take a look at some useful methods commonly used in data analysis: "
   ]
  },
  {
   "cell_type": "code",
   "execution_count": 22,
   "metadata": {},
   "outputs": [
    {
     "name": "stdout",
     "output_type": "stream",
     "text": [
      "Sum: 210\n",
      "Max:  20\n",
      "Min:  1\n",
      "Mean:  10.5\n",
      "std:  5.766281297335398\n"
     ]
    }
   ],
   "source": [
    "# Summation of all elements in the matrix\n",
    "print (\"Sum:\", my_matrix.sum())\n",
    "\n",
    "# Find the maximum element \n",
    "print (\"Max: \", my_matrix.max()) \n",
    "\n",
    "# Find the minimum element \n",
    "print (\"Min: \", my_matrix.min())\n",
    "\n",
    "# Find the arithmetric mean \n",
    "print (\"Mean: \", my_matrix.mean())\n",
    "\n",
    "# Find the standard deviation \n",
    "print (\"std: \", my_matrix.std())"
   ]
  },
  {
   "cell_type": "markdown",
   "metadata": {},
   "source": [
    "To learn more about Numpy, you may refer to the official quick start tutorial available at https://docs.scipy.org/doc/numpy/user/quickstart.html "
   ]
  },
  {
   "attachments": {
    "pandas-2.png": {
     "image/png": "[encoded data removed]"
    }
   },
   "cell_type": "markdown",
   "metadata": {},
   "source": [
    "***\n",
    "### Pandas\n",
    "\n",
    "Pandas was fundamentally created for working with two types of data structures. For one-dimensional data, you have a Series. The most common use of Pandas is the two-dimensional structure called the DataFrame. You can think of it as an Excel spreadsheet or an SQL table.\n",
    "\n",
    "![pandas-2.png](attachment:pandas-2.png)\n",
    "\n",
    "Although there are other data structures, with these two we can cover more than 90% of the use cases in AI. In fact, most of the time you will be working with DataFrames. If you are totally new to this library, you are recommended the 10 minutes to Pandas tutorial available at https://pandas.pydata.org/pandas-docs/stable/10min.html. "
   ]
  },
  {
   "cell_type": "markdown",
   "metadata": {},
   "source": [
    "***\n",
    "### Matplotlib\n",
    "\n",
    "This is the main library for producing 2D visualizations. It is one of the oldest scientific computing tools in the Python ecosystem. Although there is an increasing number of libraries for visualization for Python, Matplotlib is still widely used and actually incorporated into the pandas functionality. In addition, other more specialized visualization projects such as Seaborn are based on Matplotlib. You may refer to https://matplotlib/org/ for additional information. \n",
    "\n",
    "You will need to be familar with some of the basic terminology and concepts of matplotlib because frequently you will need to make modifications to the objects and plots produced by your Python code. Let's introduce some of the basics you need to know about this library so that you can get started visualizing data. Let's import the library as is customary when working in analytics: "
   ]
  },
  {
   "cell_type": "code",
   "execution_count": 38,
   "metadata": {},
   "outputs": [],
   "source": [
    "import matplotlib.pyplot as plt \n",
    "%matplotlib inline "
   ]
  },
  {
   "cell_type": "markdown",
   "metadata": {},
   "source": [
    "This is necessary for showing the figures in the Jupyter Notebook. \n",
    "\n",
    "First, you have two important objects - figures subplots (also known as axes). The diagram is the top-level container for all plot elements and is the container of subplot. One diagram can have many subplots and each subplot belongs to a single diagram. The following code produces a diagram (which is not seen) with a single empty subplot. Each subplot has many elements such as a x-axis, y-axis and a title: "
   ]
  },
  {
   "cell_type": "code",
   "execution_count": 39,
   "metadata": {},
   "outputs": [
    {
     "data": {
      "image/png": "[encoded data removed]",
      "text/plain": [
       "<Figure size 432x288 with 1 Axes>"
      ]
     },
     "metadata": {
      "needs_background": "light"
     },
     "output_type": "display_data"
    }
   ],
   "source": [
    "fig, ax = plt.subplots()\n",
    "ax.plot();"
   ]
  },
  {
   "cell_type": "markdown",
   "metadata": {},
   "source": [
    "A diagram with four subplots would be produced by the following code:"
   ]
  },
  {
   "cell_type": "code",
   "execution_count": 40,
   "metadata": {},
   "outputs": [
    {
     "data": {
      "image/png": "[encoded data removed]",
      "text/plain": [
       "<Figure size 432x288 with 4 Axes>"
      ]
     },
     "metadata": {
      "needs_background": "light"
     },
     "output_type": "display_data"
    }
   ],
   "source": [
    "fig, ax = plt.subplots(ncols=2, nrows=2)\n",
    "plt.show()"
   ]
  },
  {
   "cell_type": "markdown",
   "metadata": {},
   "source": [
    "One important thing to know about matplotlib is that it can be confusing for the beginner because there are two ways (interfaces) of using it - Pyplot and the Object Oriented Interface (OOI). OOI is prefered because it makes explicit the object you are working with. The formerly produced axes object is a NumPy array containing the four subplots. Let's plot some random numbers just to show you how you can refer to each of the subplots. "
   ]
  },
  {
   "cell_type": "code",
   "execution_count": 41,
   "metadata": {},
   "outputs": [
    {
     "data": {
      "image/png": "[encoded data removed]",
      "text/plain": [
       "<Figure size 432x288 with 4 Axes>"
      ]
     },
     "metadata": {
      "needs_background": "light"
     },
     "output_type": "display_data"
    }
   ],
   "source": [
    "fig, axes = plt.subplots(ncols=2, nrows=2)\n",
    "axes[0, 0].set_title('upper left') \n",
    "axes[0, 0].plot(np.arange(10), np.random.randint(0, 10, 10))\n",
    "\n",
    "axes[0, 1].set_title('upper right') \n",
    "axes[0, 1].plot(np.arange(10), np.random.randint(0, 10, 10))\n",
    "\n",
    "axes[1, 0].set_title('lower left') \n",
    "axes[1, 0].plot(np.arange(10), np.random.randint(0, 10, 10))\n",
    "\n",
    "axes[1, 1].set_title('lower right') \n",
    "axes[1, 1].plot(np.arange(10), np.random.randint(0, 10, 10))\n",
    "\n",
    "# This statement is to get a nice spacing between the subplot\n",
    "fig.tight_layout(); "
   ]
  },
  {
   "cell_type": "markdown",
   "metadata": {},
   "source": [
    "Since the axes object is a NumPy array, you refer to each of the subplots using the NumPy indexation, then you use methods such as .set_title() or .plot() on each subplot to modify it as we would like. There are many of those methods and most of them are used to modify elements of a subplot. For example, the following is almost the same code as before, but written in a way that is a bit more compact and modified the y-axis's tick marks. \n",
    "\n",
    "The other API, pyploy, is the one you will find in most of the online examples. This is the code to produce the above plots using pyplot: "
   ]
  },
  {
   "cell_type": "code",
   "execution_count": 42,
   "metadata": {},
   "outputs": [
    {
     "data": {
      "image/png": "[encoded data removed]",
      "text/plain": [
       "<Figure size 432x288 with 4 Axes>"
      ]
     },
     "metadata": {
      "needs_background": "light"
     },
     "output_type": "display_data"
    }
   ],
   "source": [
    "titles = ['upper left', 'upper right', 'lower left', 'lower right']\n",
    "fig, axes = plt.subplots(ncols=2, nrows=2)\n",
    "for title, ax in zip(titles, axes.flatten()): \n",
    "    ax.set_title(title)\n",
    "    ax.plot(np.arange(10), np.random.randint(0, 10, 10))\n",
    "    ax.set_yticks([0, 5, 10])\n",
    "fig.tight_layout(); "
   ]
  },
  {
   "cell_type": "markdown",
   "metadata": {},
   "source": [
    "The following code is a minimal example of pyplot:"
   ]
  },
  {
   "cell_type": "code",
   "execution_count": 37,
   "metadata": {},
   "outputs": [
    {
     "data": {
      "text/plain": [
       "Text(0, 0.5, 'some numbers')"
      ]
     },
     "execution_count": 37,
     "metadata": {},
     "output_type": "execute_result"
    },
    {
     "data": {
      "image/png": "[encoded data removed]",
      "text/plain": [
       "<Figure size 432x288 with 1 Axes>"
      ]
     },
     "metadata": {
      "needs_background": "light"
     },
     "output_type": "display_data"
    }
   ],
   "source": [
    "# Fill the ? with any numerical value between 0 to 9\n",
    "plt.plot([?, ?, ?, ?])\n",
    "plt.title('Minimal pyplot example')\n",
    "plt.ylabel('some numbers')"
   ]
  },
  {
   "cell_type": "markdown",
   "metadata": {},
   "source": [
    "***"
   ]
  }
 ],
 "metadata": {
  "kernelspec": {
   "display_name": "Python 3 (ipykernel)",
   "language": "python",
   "name": "python3"
  },
  "language_info": {
   "codemirror_mode": {
    "name": "ipython",
    "version": 3
   },
   "file_extension": ".py",
   "mimetype": "text/x-python",
   "name": "python",
   "nbconvert_exporter": "python",
   "pygments_lexer": "ipython3",
   "version": "3.11.4"
  }
 },
 "nbformat": 4,
 "nbformat_minor": 4
}
